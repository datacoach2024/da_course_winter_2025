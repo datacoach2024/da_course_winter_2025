{
 "cells": [
  {
   "cell_type": "markdown",
   "metadata": {},
   "source": [
    "# "
   ]
  },
  {
   "cell_type": "code",
   "execution_count": 1,
   "metadata": {},
   "outputs": [],
   "source": [
    "from sqlalchemy import text\n",
    "import pandas as pd\n",
    "from connect import set_connection"
   ]
  },
  {
   "cell_type": "code",
   "execution_count": 2,
   "metadata": {},
   "outputs": [],
   "source": [
    "with set_connection() as pg:\n",
    "    pg.execute(text('select 1'))"
   ]
  },
  {
   "cell_type": "code",
   "execution_count": 6,
   "metadata": {},
   "outputs": [
    {
     "name": "stderr",
     "output_type": "stream",
     "text": [
      "C:\\Users\\student\\AppData\\Local\\Temp\\ipykernel_10620\\1235740707.py:1: FutureWarning: 'm' is deprecated and will be removed in a future version, please use 'ME' instead.\n",
      "  dates_range = pd.date_range(start = '2021-03-31', end = '2024-12-31', freq='1m')\n"
     ]
    }
   ],
   "source": [
    "dates_range = pd.date_range(start = '2021-03-31', end = '2024-12-31', freq='1m')"
   ]
  },
  {
   "cell_type": "code",
   "execution_count": 7,
   "metadata": {},
   "outputs": [
    {
     "data": {
      "text/plain": [
       "DatetimeIndex(['2021-03-31', '2021-04-30', '2021-05-31', '2021-06-30',\n",
       "               '2021-07-31', '2021-08-31', '2021-09-30', '2021-10-31',\n",
       "               '2021-11-30', '2021-12-31', '2022-01-31', '2022-02-28',\n",
       "               '2022-03-31', '2022-04-30', '2022-05-31', '2022-06-30',\n",
       "               '2022-07-31', '2022-08-31', '2022-09-30', '2022-10-31',\n",
       "               '2022-11-30', '2022-12-31', '2023-01-31', '2023-02-28',\n",
       "               '2023-03-31', '2023-04-30', '2023-05-31', '2023-06-30',\n",
       "               '2023-07-31', '2023-08-31', '2023-09-30', '2023-10-31',\n",
       "               '2023-11-30', '2023-12-31', '2024-01-31', '2024-02-29',\n",
       "               '2024-03-31', '2024-04-30', '2024-05-31', '2024-06-30',\n",
       "               '2024-07-31', '2024-08-31', '2024-09-30', '2024-10-31',\n",
       "               '2024-11-30', '2024-12-31'],\n",
       "              dtype='datetime64[ns]', freq='ME')"
      ]
     },
     "execution_count": 7,
     "metadata": {},
     "output_type": "execute_result"
    }
   ],
   "source": [
    "dates_range"
   ]
  },
  {
   "cell_type": "code",
   "execution_count": 9,
   "metadata": {},
   "outputs": [],
   "source": [
    "def query(ix, month_end):\n",
    "\tquery = f\"\"\"\n",
    "\t{'create table rfm as' if ix == 0 else 'insert into rfm'}\n",
    "\twith\n",
    "\tbase as (\n",
    "\t\tselect \n",
    "\t\t\tdate'{month_end}' as rep_date\n",
    "\t\t\t, customer_id\n",
    "\t\t\t, to_char(date'{month_end}', 'yyyymm')::integer as monthkey\n",
    "\t\t\t, max(invoice_date) as last_purchase_date\n",
    "\t\t\t, extract('day' from date'{month_end}' - max(invoice_date)) as days_since\n",
    "\t\t\t, count(distinct invoice_date) as activity_cnt\n",
    "\t\t\t, sum(total) as total_sum\n",
    "\t\tfrom invoice\n",
    "\t\twhere\n",
    "\t\t\tinvoice_date between\n",
    "\t\t\t\tdate_trunc('month', date'{month_end}' - make_interval(months=>2))\n",
    "\t\t\t\tand date'{month_end}'\n",
    "\t\tgroup by\n",
    "\t\t\tcustomer_id\n",
    "\t)\n",
    "\t, rankings as (\n",
    "\t\tselect \n",
    "\t\t\tbase.*\n",
    "\t\t\t, ntile(4) over(order by days_since desc) as recency\n",
    "\t\t\t, ntile(4) over(order by activity_cnt) as frequency\n",
    "\t\t\t, ntile(4) over(order by total_sum) as monetary_value\n",
    "\t\tfrom base\n",
    "\t)\n",
    "\tselect\n",
    "\t\tr.*\n",
    "\t\t, recency * 100 + frequency * 10 + monetary_value as rfm_score\n",
    "\tfrom rankings r\n",
    "\t\"\"\"\n",
    "\n",
    "\treturn query"
   ]
  },
  {
   "cell_type": "code",
   "execution_count": null,
   "metadata": {},
   "outputs": [
    {
     "name": "stdout",
     "output_type": "stream",
     "text": [
      "executing for day 2021-03-31 00:00:00...\n",
      "executing for day 2021-04-30 00:00:00...\n",
      "executing for day 2021-05-31 00:00:00...\n",
      "executing for day 2021-06-30 00:00:00...\n",
      "executing for day 2021-07-31 00:00:00...\n",
      "executing for day 2021-08-31 00:00:00...\n",
      "executing for day 2021-09-30 00:00:00...\n",
      "executing for day 2021-10-31 00:00:00...\n",
      "executing for day 2021-11-30 00:00:00...\n",
      "executing for day 2021-12-31 00:00:00...\n",
      "executing for day 2022-01-31 00:00:00...\n",
      "executing for day 2022-02-28 00:00:00...\n",
      "executing for day 2022-03-31 00:00:00...\n",
      "executing for day 2022-04-30 00:00:00...\n",
      "executing for day 2022-05-31 00:00:00...\n",
      "executing for day 2022-06-30 00:00:00...\n",
      "executing for day 2022-07-31 00:00:00...\n",
      "executing for day 2022-08-31 00:00:00...\n",
      "executing for day 2022-09-30 00:00:00...\n",
      "executing for day 2022-10-31 00:00:00...\n",
      "executing for day 2022-11-30 00:00:00...\n",
      "executing for day 2022-12-31 00:00:00...\n",
      "executing for day 2023-01-31 00:00:00...\n",
      "executing for day 2023-02-28 00:00:00...\n",
      "executing for day 2023-03-31 00:00:00...\n",
      "executing for day 2023-04-30 00:00:00...\n",
      "executing for day 2023-05-31 00:00:00...\n",
      "executing for day 2023-06-30 00:00:00...\n",
      "executing for day 2023-07-31 00:00:00...\n",
      "executing for day 2023-08-31 00:00:00...\n",
      "executing for day 2023-09-30 00:00:00...\n",
      "executing for day 2023-10-31 00:00:00...\n",
      "executing for day 2023-11-30 00:00:00...\n",
      "executing for day 2023-12-31 00:00:00...\n",
      "executing for day 2024-01-31 00:00:00...\n",
      "executing for day 2024-02-29 00:00:00...\n",
      "executing for day 2024-03-31 00:00:00...\n",
      "executing for day 2024-04-30 00:00:00...\n",
      "executing for day 2024-05-31 00:00:00...\n",
      "executing for day 2024-06-30 00:00:00...\n",
      "executing for day 2024-07-31 00:00:00...\n",
      "executing for day 2024-08-31 00:00:00...\n",
      "executing for day 2024-09-30 00:00:00...\n",
      "executing for day 2024-10-31 00:00:00...\n",
      "executing for day 2024-11-30 00:00:00...\n",
      "executing for day 2024-12-31 00:00:00...\n"
     ]
    }
   ],
   "source": [
    "for ix, month_end in enumerate(dates_range):\n",
    "    print(f\"executing for day {month_end}...\")\n",
    "    with set_connection() as pg:\n",
    "        pg.execute(text(\n",
    "            query(ix, month_end)\n",
    "        ))\n",
    "        pg.commit()"
   ]
  },
  {
   "cell_type": "code",
   "execution_count": null,
   "metadata": {},
   "outputs": [],
   "source": [
    "USE IT OR LOOSE IT"
   ]
  },
  {
   "cell_type": "code",
   "execution_count": null,
   "metadata": {},
   "outputs": [],
   "source": []
  },
  {
   "cell_type": "code",
   "execution_count": null,
   "metadata": {},
   "outputs": [],
   "source": []
  }
 ],
 "metadata": {
  "kernelspec": {
   "display_name": ".venv",
   "language": "python",
   "name": "python3"
  },
  "language_info": {
   "codemirror_mode": {
    "name": "ipython",
    "version": 3
   },
   "file_extension": ".py",
   "mimetype": "text/x-python",
   "name": "python",
   "nbconvert_exporter": "python",
   "pygments_lexer": "ipython3",
   "version": "3.12.4"
  }
 },
 "nbformat": 4,
 "nbformat_minor": 2
}
