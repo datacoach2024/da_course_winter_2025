{
 "cells": [
  {
   "cell_type": "markdown",
   "metadata": {},
   "source": [
    "# Визуализация данных с `plotly`"
   ]
  },
  {
   "cell_type": "markdown",
   "metadata": {},
   "source": [
    "Библиотека `plotly` состоит из следующих модулей:  \n",
    "* `plotly.express` - для создания простых графиков  \n",
    "* `plotly.graph_objects` - для создания более сложных и кастомизированных графиков  \n",
    "* `plotly.figure_factory` - для создания специфичных, нестандартных графиков "
   ]
  },
  {
   "cell_type": "markdown",
   "metadata": {},
   "source": [
    "## Что такое `plotly.express`"
   ]
  },
  {
   "cell_type": "markdown",
   "metadata": {},
   "source": [
    "`plotly.express` - это модуль библиотеки `Plotly`, предназначенный для упрощения процесса создания графиков. Он предоставляет простой и интуитивно понятный API для создания различных типов визуализаций."
   ]
  },
  {
   "cell_type": "markdown",
   "metadata": {},
   "source": [
    "Преимущества `plotly.express`:  \n",
    "* интерактивные графики  \n",
    "* простой синтаксис для создания графиков  \n",
    "* широкие возможности кастомизации"
   ]
  },
  {
   "cell_type": "markdown",
   "metadata": {},
   "source": [
    "## Установка библиотеки"
   ]
  },
  {
   "cell_type": "markdown",
   "metadata": {},
   "source": [
    "Для установки библиотеки, в командной строке наберите следующую команду:  \n",
    "```bash \n",
    "pip install plotly\n",
    "```"
   ]
  },
  {
   "cell_type": "markdown",
   "metadata": {},
   "source": [
    "## Базовый синтаксис"
   ]
  },
  {
   "cell_type": "markdown",
   "metadata": {},
   "source": [
    "Общий синтаксис создания графиков с помощью `plotly.express` выглядит следующим образом:  \n",
    "```python\n",
    "import plotly.express as px\n",
    "\n",
    "fig = px.<chart_type>(\n",
    "    data_frame,\n",
    "    x,\n",
    "    y\n",
    ")\n",
    "fig.show()\n",
    "```  \n",
    "где: \n",
    "* `<chart_type>` - тип создаваемого графика \n",
    "* `data_frame` - датафрейм, содержащий данные\n",
    "* `x`, `y` - поля данных для осей X и Y   "
   ]
  },
  {
   "cell_type": "markdown",
   "metadata": {},
   "source": [
    "## Примеры использования"
   ]
  },
  {
   "cell_type": "markdown",
   "metadata": {},
   "source": [
    "### Юнивариативные графики"
   ]
  },
  {
   "cell_type": "code",
   "execution_count": null,
   "metadata": {},
   "outputs": [],
   "source": [
    "import numpy as np\n",
    "import pandas as pd\n",
    "import plotly\n",
    "import plotly.express as px"
   ]
  },
  {
   "cell_type": "code",
   "execution_count": null,
   "metadata": {},
   "outputs": [],
   "source": [
    "tips = plotly.data.tips()\n",
    "tips.shape"
   ]
  },
  {
   "cell_type": "code",
   "execution_count": null,
   "metadata": {},
   "outputs": [],
   "source": [
    "tips.sample(10)"
   ]
  },
  {
   "cell_type": "code",
   "execution_count": null,
   "metadata": {},
   "outputs": [],
   "source": [
    "fig = px.histogram(\n",
    "    data_frame = tips,\n",
    "    x = 'tip',\n",
    "    title = 'Tips distribution'\n",
    ")\n",
    "fig.show();"
   ]
  },
  {
   "cell_type": "markdown",
   "metadata": {},
   "source": [
    ">Фигура в `plotly` состоит из 3 основных компонентов:  \n",
    ">* **`layout`** - словарь, контролирующий стиль фигуры. Одна фигура может иметь лишь один `layout`  \n",
    ">* **`data`** - список словарей, которые определяют тип графика и данные в нём содержащиеся.  \n",
    ">* **`trace`** - комбинация из словарей по типам и данным: *data* + *type* = `trace`. Один график может состоять из нескольких `trace`"
   ]
  },
  {
   "cell_type": "code",
   "execution_count": null,
   "metadata": {},
   "outputs": [],
   "source": [
    "print(fig)"
   ]
  },
  {
   "cell_type": "code",
   "execution_count": null,
   "metadata": {},
   "outputs": [],
   "source": [
    "px.bar(\n",
    "    data_frame = tips.groupby(['sex'], as_index = False)['tip'].sum(),\n",
    "    y = 'sex',\n",
    "    x = 'tip'\n",
    ")"
   ]
  },
  {
   "cell_type": "code",
   "execution_count": null,
   "metadata": {},
   "outputs": [],
   "source": [
    "px.scatter(\n",
    "    data_frame = tips,\n",
    "    x = 'tip',\n",
    "    y = 'total_bill'\n",
    ")"
   ]
  },
  {
   "cell_type": "code",
   "execution_count": null,
   "metadata": {},
   "outputs": [],
   "source": [
    "px.scatter(\n",
    "    data_frame = tips,\n",
    "    x = 'tip',\n",
    "    y = 'total_bill',\n",
    "    trendline='ols'\n",
    ")"
   ]
  },
  {
   "cell_type": "code",
   "execution_count": null,
   "metadata": {},
   "outputs": [],
   "source": [
    "px.box(\n",
    "    data_frame = tips,\n",
    "    x = 'tip'\n",
    ")"
   ]
  },
  {
   "cell_type": "code",
   "execution_count": null,
   "metadata": {},
   "outputs": [],
   "source": [
    "px.pie(\n",
    "    data_frame = tips,\n",
    "    values = 'tip',\n",
    "    names = 'sex'\n",
    ")"
   ]
  },
  {
   "cell_type": "code",
   "execution_count": null,
   "metadata": {},
   "outputs": [],
   "source": [
    "px.pie(\n",
    "    data_frame = tips,\n",
    "    values = 'tip',\n",
    "    names = 'sex',\n",
    "    hole = .5\n",
    ")"
   ]
  },
  {
   "cell_type": "code",
   "execution_count": null,
   "metadata": {},
   "outputs": [],
   "source": [
    "gpm = plotly.data.gapminder()"
   ]
  },
  {
   "cell_type": "code",
   "execution_count": null,
   "metadata": {},
   "outputs": [],
   "source": [
    "gpm"
   ]
  },
  {
   "cell_type": "code",
   "execution_count": null,
   "metadata": {},
   "outputs": [],
   "source": [
    "px.line(\n",
    "    data_frame = gpm.groupby(['year'], as_index=False)['lifeExp'].mean(),\n",
    "    x = 'year',\n",
    "    y = 'lifeExp'\n",
    ")"
   ]
  },
  {
   "cell_type": "markdown",
   "metadata": {},
   "source": [
    "### Бивариативные графики"
   ]
  },
  {
   "cell_type": "code",
   "execution_count": null,
   "metadata": {},
   "outputs": [],
   "source": [
    "px.histogram(\n",
    "    data_frame = tips,\n",
    "    x = 'total_bill',\n",
    "    color = 'sex',\n",
    ")"
   ]
  },
  {
   "cell_type": "code",
   "execution_count": null,
   "metadata": {},
   "outputs": [],
   "source": [
    "px.line(\n",
    "    data_frame = gpm.query(\"country.isin(['Japan', 'Germany', 'United States', 'China'])\"),\n",
    "    x = 'year',\n",
    "    y = 'lifeExp',\n",
    "    color = 'country',\n",
    "    markers = True\n",
    ")"
   ]
  },
  {
   "cell_type": "code",
   "execution_count": null,
   "metadata": {},
   "outputs": [],
   "source": [
    "px.bar(\n",
    "    data_frame = tips.groupby(['smoker', 'day'], as_index=False)['tip'].sum(),\n",
    "    x = 'smoker',\n",
    "    y = 'tip',\n",
    "    color = 'day',\n",
    "    barmode = 'stack'\n",
    ")"
   ]
  },
  {
   "cell_type": "code",
   "execution_count": null,
   "metadata": {},
   "outputs": [],
   "source": [
    "px.bar(\n",
    "    data_frame = tips.groupby(['smoker', 'day'], as_index=False)['tip'].sum(),\n",
    "    x = 'smoker',\n",
    "    y = 'tip',\n",
    "    color = 'day',\n",
    "    barmode = 'group'\n",
    ")"
   ]
  },
  {
   "cell_type": "code",
   "execution_count": null,
   "metadata": {},
   "outputs": [],
   "source": [
    "px.bar(\n",
    "    data_frame = tips.groupby(['smoker', 'day'], as_index=False)['tip'].sum(),\n",
    "    x = 'smoker',\n",
    "    y = 'tip',\n",
    "    color = 'day',\n",
    "    barmode = 'overlay',\n",
    "    opacity = .2\n",
    ")"
   ]
  },
  {
   "cell_type": "markdown",
   "metadata": {},
   "source": [
    "### Мультивариативные графики"
   ]
  },
  {
   "cell_type": "code",
   "execution_count": null,
   "metadata": {},
   "outputs": [],
   "source": [
    "px.bar(\n",
    "    data_frame = tips, \n",
    "    x = 'smoker',\n",
    "    y = 'tip',\n",
    "    color = 'day',\n",
    "    barmode = 'group',\n",
    "    facet_col = 'sex',\n",
    "    facet_row = 'time'\n",
    ")"
   ]
  },
  {
   "cell_type": "code",
   "execution_count": null,
   "metadata": {},
   "outputs": [],
   "source": [
    "px.scatter(\n",
    "    data_frame = tips,\n",
    "    x = 'tip',\n",
    "    y = 'total_bill',\n",
    "    color = 'sex',\n",
    "    size = 'size',\n",
    "    symbol = 'smoker',\n",
    "    facet_col = 'day',\n",
    "    facet_col_wrap = 2,\n",
    "    facet_row = 'time',\n",
    "    height = 1000\n",
    ")"
   ]
  },
  {
   "cell_type": "code",
   "execution_count": null,
   "metadata": {},
   "outputs": [],
   "source": []
  },
  {
   "cell_type": "code",
   "execution_count": null,
   "metadata": {},
   "outputs": [],
   "source": []
  }
 ],
 "metadata": {
  "kernelspec": {
   "display_name": ".venv",
   "language": "python",
   "name": "python3"
  },
  "language_info": {
   "codemirror_mode": {
    "name": "ipython",
    "version": 3
   },
   "file_extension": ".py",
   "mimetype": "text/x-python",
   "name": "python",
   "nbconvert_exporter": "python",
   "pygments_lexer": "ipython3",
   "version": "3.11.4"
  }
 },
 "nbformat": 4,
 "nbformat_minor": 2
}
